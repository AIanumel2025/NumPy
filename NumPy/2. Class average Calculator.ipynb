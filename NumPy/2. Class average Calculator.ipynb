{
  "metadata": {
    "kernelspec": {
      "name": "python",
      "display_name": "Python (Pyodide)",
      "language": "python"
    },
    "language_info": {
      "codemirror_mode": {
        "name": "python",
        "version": 3
      },
      "file_extension": ".py",
      "mimetype": "text/x-python",
      "name": "python",
      "nbconvert_exporter": "python",
      "pygments_lexer": "ipython3",
      "version": "3.8"
    }
  },
  "nbformat_minor": 5,
  "nbformat": 4,
  "cells": [
    {
      "id": "00e5eb77-7f0e-487d-b9be-499e5736033a",
      "cell_type": "markdown",
      "source": "Applying NumPy to compute the average score of each student, the average score for each test and to determine the students who performed better than the class average in all 3 tests\n\n1. Array stored in data variable is a 2D array\n\nFeedback, comments are welcome!",
      "metadata": {}
    },
    {
      "id": "1b1166d0-9565-45e1-82a7-998f8096fc0b",
      "cell_type": "code",
      "source": "import numpy as np\n\n# axis=1 horizontal, whilst axis=0 vertical\n\ndata = np.array([[85, 90, 78], [88,85,92],[76,80,75], [90,92,93],[70,65,72]])\nstudent_averages = np.mean(data, axis=1)\nprint('Average score of each student:', student_averages)",
      "metadata": {
        "trusted": true
      },
      "outputs": [
        {
          "name": "stdout",
          "output_type": "stream",
          "text": "Average score of each student: [84.33333333 88.33333333 77.         91.66666667 69.        ]\n"
        }
      ],
      "execution_count": 3
    },
    {
      "id": "0289dc71-4030-460a-869a-a8f5b1a272a2",
      "cell_type": "code",
      "source": "test_averages = np.mean(data, axis=0)\nprint('Average score for each test:', test_averages)",
      "metadata": {
        "trusted": true
      },
      "outputs": [
        {
          "name": "stdout",
          "output_type": "stream",
          "text": "Average score for each test: [81.8 82.4 82. ]\n"
        }
      ],
      "execution_count": 4
    },
    {
      "id": "d61cfe7b-83e7-4677-8c3c-03e2268e392f",
      "cell_type": "code",
      "source": "class_average = np.mean(student_averages)\nprint('Average score of all students across all tests:', class_average)",
      "metadata": {
        "trusted": true
      },
      "outputs": [
        {
          "name": "stdout",
          "output_type": "stream",
          "text": "Average score of all students across all tests: 82.06666666666666\n"
        }
      ],
      "execution_count": 5
    },
    {
      "id": "3bc55698-cc65-4119-a1c8-0ab764c9d0e5",
      "cell_type": "code",
      "source": "comparison_check = np.all(student_averages > class_average)\nprint('The results for the comparison check are:', comparison_check)",
      "metadata": {
        "trusted": true
      },
      "outputs": [
        {
          "name": "stdout",
          "output_type": "stream",
          "text": "The results for the comparison check are: False\n"
        }
      ],
      "execution_count": 8
    },
    {
      "id": "27f14ef1-90be-4e4d-bd55-502199b4f830",
      "cell_type": "code",
      "source": "above_class_avg_students = np.where(student_averages>class_average)[0]\nprint('Students scoring above class average in all tests:', above_class_avg_students)",
      "metadata": {
        "trusted": true
      },
      "outputs": [
        {
          "name": "stdout",
          "output_type": "stream",
          "text": "Students scoring above class average in all tests: [0 1 3]\n"
        }
      ],
      "execution_count": 15
    }
  ]
}