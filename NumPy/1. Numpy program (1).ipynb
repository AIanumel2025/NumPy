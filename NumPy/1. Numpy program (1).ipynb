{
  "metadata": {
    "kernelspec": {
      "name": "python",
      "display_name": "Python (Pyodide)",
      "language": "python"
    },
    "language_info": {
      "codemirror_mode": {
        "name": "python",
        "version": 3
      },
      "file_extension": ".py",
      "mimetype": "text/x-python",
      "name": "python",
      "nbconvert_exporter": "python",
      "pygments_lexer": "ipython3",
      "version": "3.8"
    }
  },
  "nbformat_minor": 5,
  "nbformat": 4,
  "cells": [
    {
      "id": "762a6018-8b93-4796-b0be-fcbf1a67b33d",
      "cell_type": "markdown",
      "source": "A simple program to calculate the mean, median, mode, range and IQR of an array of numbers\n\n1. User inputs a specified range of numbers (could be random, but not non-integers)\n2. The append function takes each integer and passes it to the array list.\n3. array list is converted to an array using np.array() and is stored into variable 'a'\n4. The mean, median, mode, minimum and maximum values are all calculated by calling functions within statistics library\n5. The intequartile range is also calculated.\n6. All calculations are printed as shown\n\nFeedback, comments, always welcome!",
      "metadata": {}
    },
    {
      "id": "f8b41ab0-c4b7-4e90-9a77-e5663b99e4cc",
      "cell_type": "code",
      "source": "import statistics as st\nimport numpy as np\n\narray=[]\n\nfor _ in range(15):\n    no=int(input('Input number:' ))\n    array.append(no)\n    a=np.array(array)\n\n# Calculate the mean\na_mean = st.mean(a)\n\n#Calculate the median\na_median=st.median(a)\n\n#Calculate Mode\na_mode=st.mode(a)\n\n# Maximum and Minimum values\na_min=min(a)\na_max=max(a)\n\n#Calculate Range\na_range=max(a)-min(a)\n\n# Finding the interquartile range\n# Calculate the 25th percentile\na_sorted=sorted(a)\na_25=len(a_sorted)*0.25\n\n# Calculate the 75th percentile\na_75=len(a_sorted)*0.75\n\n# IQR\nIQR=a_75-a_25\n\n# 22, 21, 23, 28, 23, 34, 30, 24, 49, 27, 23, 22, 32, 28, 26\nprint('Array:', a)\nprint('Mean:',a_mean)\nprint('Median:', a_median)\nprint('Mode:', a_mode)\nprint('The range is between', a_min, 'and', a_max, 'which is', a_range)\nprint('The 25th percentile:', a_25)\nprint('The 75th percentile:', a_75)\nprint('Your IQR:', IQR)",
      "metadata": {
        "trusted": true
      },
      "outputs": [
        {
          "output_type": "stream",
          "name": "stdin",
          "text": "Input number: 22\nInput number: 21\nInput number: 23\nInput number: 28\nInput number: 23\nInput number: 34\nInput number: 30\nInput number: 24\nInput number: 49\nInput number: 27\nInput number: 23\nInput number: 22\nInput number: 32\nInput number: 28\n"
        }
      ],
      "execution_count": null
    },
    {
      "id": "f4caa81c-705b-4cca-ba8e-7c189fc85aae",
      "cell_type": "code",
      "source": "",
      "metadata": {
        "trusted": true
      },
      "outputs": [],
      "execution_count": null
    }
  ]
}